{
 "cells": [
  {
   "cell_type": "markdown",
   "metadata": {},
   "source": [
    "# Mad Libs"
   ]
  },
  {
   "cell_type": "code",
   "execution_count": 3,
   "metadata": {},
   "outputs": [
    {
     "name": "stdout",
     "output_type": "stream",
     "text": [
      "One day, a stuid arish decided to play at the jungle.\n"
     ]
    }
   ],
   "source": [
    "def mad_libs():\n",
    "    noun = input(\"Enter a noun: \")\n",
    "    verb = input(\"Enter a verb: \")\n",
    "    adjective = input(\"Enter an adjective: \")\n",
    "    place = input(\"Enter a place: \")\n",
    "\n",
    "    story = f\"One day, a {adjective} {noun} decided to {verb} at the {place}.\"\n",
    "    print(story)\n",
    "\n",
    "mad_libs()"
   ]
  },
  {
   "cell_type": "markdown",
   "metadata": {},
   "source": [
    "# Guess the Number Game (Computer Chooses)"
   ]
  },
  {
   "cell_type": "code",
   "execution_count": 5,
   "metadata": {},
   "outputs": [
    {
     "name": "stdout",
     "output_type": "stream",
     "text": [
      "I am thinking of a number between 1 and 100...\n",
      "Your guess is too high\n",
      "Your guess is too low\n",
      "Your guess is too high\n",
      "Congrats! The number was 54\n"
     ]
    }
   ],
   "source": [
    "import random\n",
    "\n",
    "def guess_the_number():\n",
    "    secret_number = random.randint(1, 100)\n",
    "    print(\"I am thinking of a number between 1 and 100...\")\n",
    "\n",
    "    while True:\n",
    "        guess = int(input(\"Enter your guess: \"))\n",
    "\n",
    "        if guess > secret_number:\n",
    "            print(\"Your guess is too high\")\n",
    "        elif guess < secret_number:\n",
    "            print(\"Your guess is too low\")\n",
    "        else:\n",
    "            print(f\"Congrats! The number was {secret_number}\")\n",
    "            break\n",
    "\n",
    "guess_the_number()"
   ]
  },
  {
   "cell_type": "markdown",
   "metadata": {},
   "source": [
    "# Guess the Number Game (User Chooses)"
   ]
  },
  {
   "cell_type": "code",
   "execution_count": 6,
   "metadata": {},
   "outputs": [
    {
     "name": "stdout",
     "output_type": "stream",
     "text": [
      "Think of a number between 1 and 100 and I'll try to guess it!\n",
      "Yay! I guessed your number: 51\n"
     ]
    }
   ],
   "source": [
    "import random\n",
    "\n",
    "def user_guess():\n",
    "    print(\"Think of a number between 1 and 100 and I'll try to guess it!\")\n",
    "    low, high = 1, 100\n",
    "\n",
    "    while True:\n",
    "        guess = (low + high) // 2\n",
    "        response = input(f\"Is it {guess}? (h for too high, l for too low, c for correct): \").lower()\n",
    "\n",
    "        if response == 'h':\n",
    "            high = guess - 1\n",
    "        elif response == 'l':\n",
    "            low = guess + 1\n",
    "        elif response == 'c':\n",
    "            print(f\"Yay! I guessed your number: {guess}\")\n",
    "            break\n",
    "\n",
    "user_guess()"
   ]
  },
  {
   "cell_type": "markdown",
   "metadata": {},
   "source": [
    "# Rock, Paper, Scissors"
   ]
  },
  {
   "cell_type": "code",
   "execution_count": 7,
   "metadata": {},
   "outputs": [
    {
     "name": "stdout",
     "output_type": "stream",
     "text": [
      "Computer chose: scissors\n",
      "You win!\n"
     ]
    }
   ],
   "source": [
    "import random\n",
    "\n",
    "def rock_paper_scissors():\n",
    "    choices = [\"rock\", \"paper\", \"scissors\"]\n",
    "    computer_choice = random.choice(choices)\n",
    "\n",
    "    user_choice = input(\"Enter rock, paper, or scissors: \").lower()\n",
    "\n",
    "    if user_choice not in choices:\n",
    "        print(\"Invalid choice!\")\n",
    "        return\n",
    "\n",
    "    print(f\"Computer chose: {computer_choice}\")\n",
    "\n",
    "    if user_choice == computer_choice:\n",
    "        print(\"It's a tie!\")\n",
    "    elif (user_choice == \"rock\" and computer_choice == \"scissors\") or \\\n",
    "         (user_choice == \"scissors\" and computer_choice == \"paper\") or \\\n",
    "         (user_choice == \"paper\" and computer_choice == \"rock\"):\n",
    "        print(\"You win!\")\n",
    "    else:\n",
    "        print(\"You lose!\")\n",
    "\n",
    "rock_paper_scissors()"
   ]
  },
  {
   "cell_type": "markdown",
   "metadata": {},
   "source": [
    "# Hangman"
   ]
  },
  {
   "cell_type": "code",
   "execution_count": 8,
   "metadata": {},
   "outputs": [
    {
     "name": "stdout",
     "output_type": "stream",
     "text": [
      "Welcome to Hangman!\n",
      "_ _ _ _ _ _ _ _ _\n",
      "_ _ _ _ _ o _ _ _\n",
      "Wrong guess! Attempts left: 5\n",
      "_ _ _ _ _ o _ _ _\n",
      "d _ _ _ _ o _ _ _\n",
      "d e _ e _ o _ e _\n",
      "d e v e _ o _ e _\n",
      "d e v e _ o _ e _\n",
      "d e v e l o _ e _\n",
      "d e v e l o p e _\n",
      "d e v e l o p e _\n",
      "Congratulations! You guessed the word: developer\n"
     ]
    }
   ],
   "source": [
    "import random\n",
    "\n",
    "def hangman():\n",
    "    words = [\"python\", \"developer\", \"notebook\", \"programming\"]\n",
    "    word = random.choice(words)\n",
    "    guessed = [\"_\"] * len(word)\n",
    "    attempts = 6\n",
    "\n",
    "    print(\"Welcome to Hangman!\")\n",
    "\n",
    "    while attempts > 0 and \"_\" in guessed:\n",
    "        print(\" \".join(guessed))\n",
    "        guess = input(\"Guess a letter: \").lower()\n",
    "\n",
    "        if guess in word:\n",
    "            for i, letter in enumerate(word):\n",
    "                if letter == guess:\n",
    "                    guessed[i] = guess\n",
    "        else:\n",
    "            attempts -= 1\n",
    "            print(f\"Wrong guess! Attempts left: {attempts}\")\n",
    "\n",
    "    if \"_\" not in guessed:\n",
    "        print(f\"Congratulations! You guessed the word: {word}\")\n",
    "    else:\n",
    "        print(f\"Game Over! The word was: {word}\")\n",
    "\n",
    "hangman()\n"
   ]
  },
  {
   "cell_type": "markdown",
   "metadata": {},
   "source": [
    "# Countdown Timer"
   ]
  },
  {
   "cell_type": "code",
   "execution_count": 9,
   "metadata": {},
   "outputs": [
    {
     "name": "stdout",
     "output_type": "stream",
     "text": [
      "Time left: 10 seconds\n",
      "Time left: 9 seconds\n",
      "Time left: 8 seconds\n",
      "Time left: 7 seconds\n",
      "Time left: 6 seconds\n",
      "Time left: 5 seconds\n",
      "Time left: 4 seconds\n",
      "Time left: 3 seconds\n",
      "Time left: 2 seconds\n",
      "Time left: 1 seconds\n",
      "Time's up!\n"
     ]
    }
   ],
   "source": [
    "import time\n",
    "\n",
    "def countdown_timer(seconds):\n",
    "    while seconds > 0:\n",
    "        print(f\"Time left: {seconds} seconds\")\n",
    "        time.sleep(1)\n",
    "        seconds -= 1\n",
    "\n",
    "    print(\"Time's up!\")\n",
    "\n",
    "# Set countdown time (change as needed)\n",
    "countdown_timer(10)"
   ]
  }
 ],
 "metadata": {
  "kernelspec": {
   "display_name": "Python 3",
   "language": "python",
   "name": "python3"
  },
  "language_info": {
   "codemirror_mode": {
    "name": "ipython",
    "version": 3
   },
   "file_extension": ".py",
   "mimetype": "text/x-python",
   "name": "python",
   "nbconvert_exporter": "python",
   "pygments_lexer": "ipython3",
   "version": "3.10.11"
  }
 },
 "nbformat": 4,
 "nbformat_minor": 2
}
