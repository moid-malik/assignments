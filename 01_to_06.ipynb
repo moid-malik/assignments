{
 "cells": [
  {
   "cell_type": "markdown",
   "metadata": {},
   "source": [
    "# Add Two Numbers"
   ]
  },
  {
   "cell_type": "code",
   "execution_count": 2,
   "metadata": {},
   "outputs": [
    {
     "name": "stdout",
     "output_type": "stream",
     "text": [
      "Let's add two numbers.\n",
      "Your total is 10.\n"
     ]
    }
   ],
   "source": [
    "def main():\n",
    "    print(\"Let's add two numbers.\")\n",
    "    num1 : str = input(\"First Number: \")\n",
    "    num1 : int = int(num1)\n",
    "    num2  : str = input(\"Second number: \")\n",
    "    num2 : int = int(num2)\n",
    "    total : int = num1 + num2\n",
    "    print(\"Your total is \" + str(total) + \".\")\n",
    "\n",
    "if __name__ == '__main__':\n",
    "    main()"
   ]
  },
  {
   "cell_type": "markdown",
   "metadata": {},
   "source": [
    "# Agreement Bot"
   ]
  },
  {
   "cell_type": "code",
   "execution_count": 3,
   "metadata": {},
   "outputs": [
    {
     "name": "stdout",
     "output_type": "stream",
     "text": [
      "Wow! My favorite animal is also monkey!\n"
     ]
    }
   ],
   "source": [
    "def get_favorite_animal():\n",
    "    \"\"\"Asks the user for their favorite animal and returns the input.\"\"\"\n",
    "    return input(\"What's your favorite animal? \")\n",
    "\n",
    "def respond_with_favorite(animal):\n",
    "    \"\"\"Prints a response stating that the favorite animal is the same as the user's input.\"\"\"\n",
    "    print(f\"Wow! My favorite animal is also {animal}!\")\n",
    "\n",
    "def main():\n",
    "    \"\"\"Main function to execute the favorite animal prompt and response.\"\"\"\n",
    "    favorite_animal = get_favorite_animal()\n",
    "    respond_with_favorite(favorite_animal)\n",
    "\n",
    "if __name__ == \"__main__\":\n",
    "    main()\n"
   ]
  },
  {
   "cell_type": "markdown",
   "metadata": {},
   "source": [
    "# Temprature Convertor"
   ]
  },
  {
   "cell_type": "code",
   "execution_count": 4,
   "metadata": {},
   "outputs": [
    {
     "name": "stdout",
     "output_type": "stream",
     "text": [
      "Temperature: 22.0F = -5.555555555555555C\n"
     ]
    }
   ],
   "source": [
    "def convert_temperature():\n",
    "    fahrenheit = float(input(\"Enter temperature in Fahrenheit: \"))\n",
    "    celsius = (fahrenheit - 32) * 5.0 / 9.0\n",
    "    print(f\"Temperature: {fahrenheit}F = {celsius}C\")\n",
    "\n",
    "convert_temperature()"
   ]
  },
  {
   "cell_type": "markdown",
   "metadata": {},
   "source": [
    "# Age Riddle Solver"
   ]
  },
  {
   "cell_type": "code",
   "execution_count": 5,
   "metadata": {},
   "outputs": [
    {
     "name": "stdout",
     "output_type": "stream",
     "text": [
      "Anton is 21\n",
      "Beth is 27\n",
      "Chen is 47\n",
      "Drew is 68\n",
      "Ethan is 47\n"
     ]
    }
   ],
   "source": [
    "def solve_age_riddle():\n",
    "    Anton = 21\n",
    "    Beth = Anton + 6\n",
    "    Chen = Beth + 20\n",
    "    Drew = Chen + Anton\n",
    "    Ethan = Chen\n",
    "    \n",
    "    print(f\"Anton is {Anton}\")\n",
    "    print(f\"Beth is {Beth}\")\n",
    "    print(f\"Chen is {Chen}\")\n",
    "    print(f\"Drew is {Drew}\")\n",
    "    print(f\"Ethan is {Ethan}\")\n",
    "\n",
    "solve_age_riddle()\n"
   ]
  },
  {
   "cell_type": "markdown",
   "metadata": {},
   "source": [
    "# Triangle's Parimeter Calculator"
   ]
  },
  {
   "cell_type": "code",
   "execution_count": 7,
   "metadata": {},
   "outputs": [
    {
     "name": "stdout",
     "output_type": "stream",
     "text": [
      "The perimeter of the triangle is 36.0\n"
     ]
    }
   ],
   "source": [
    "def calculate_triangle_perimeter():\n",
    "    side1 = float(input(\"What is the length of side 1? \"))\n",
    "    side2 = float(input(\"What is the length of side 2? \"))\n",
    "    side3 = float(input(\"What is the length of side 3? \"))\n",
    "    \n",
    "    perimeter = side1 + side2 + side3\n",
    "    \n",
    "    print(f\"The perimeter of the triangle is {perimeter}\")\n",
    "\n",
    "calculate_triangle_perimeter()\n"
   ]
  },
  {
   "cell_type": "markdown",
   "metadata": {},
   "source": [
    "# Square Number"
   ]
  },
  {
   "cell_type": "code",
   "execution_count": 8,
   "metadata": {},
   "outputs": [
    {
     "name": "stdout",
     "output_type": "stream",
     "text": [
      "5.0 squared is 25.0\n"
     ]
    }
   ],
   "source": [
    "def square_number():\n",
    "    number = float(input(\"Type a number to see its square: \"))\n",
    "    squared = number * number\n",
    "    print(f\"{number} squared is {squared}\")\n",
    "\n",
    "square_number()\n"
   ]
  }
 ],
 "metadata": {
  "kernelspec": {
   "display_name": "Python 3",
   "language": "python",
   "name": "python3"
  },
  "language_info": {
   "codemirror_mode": {
    "name": "ipython",
    "version": 3
   },
   "file_extension": ".py",
   "mimetype": "text/x-python",
   "name": "python",
   "nbconvert_exporter": "python",
   "pygments_lexer": "ipython3",
   "version": "3.10.11"
  }
 },
 "nbformat": 4,
 "nbformat_minor": 2
}
