{
 "cells": [
  {
   "cell_type": "markdown",
   "metadata": {},
   "source": [
    "# Joke Bot"
   ]
  },
  {
   "cell_type": "code",
   "execution_count": 3,
   "metadata": {},
   "outputs": [
    {
     "name": "stdout",
     "output_type": "stream",
     "text": [
      "Here is a joke for you! \n",
      "Why do programmers prefer dark mode? \n",
      "Because light attracts bugs!\n"
     ]
    }
   ],
   "source": [
    "PROMPT = \"What do you want? \"\n",
    "JOKE = \"\"\"Here is a joke for you! \n",
    "Why do programmers prefer dark mode? \n",
    "Because light attracts bugs!\"\"\"\n",
    "SORRY = \"Sorry, I only tell jokes.\"\n",
    "\n",
    "user_input = input(PROMPT)\n",
    "\n",
    "if user_input == \"Joke\" or \"joke\" or \"JOKE\":\n",
    "    print(JOKE)\n",
    "else:\n",
    "    print(SORRY)\n"
   ]
  },
  {
   "cell_type": "markdown",
   "metadata": {},
   "source": [
    "# Double It"
   ]
  },
  {
   "cell_type": "code",
   "execution_count": 6,
   "metadata": {},
   "outputs": [
    {
     "name": "stdout",
     "output_type": "stream",
     "text": [
      "10 20 40 80 160 "
     ]
    }
   ],
   "source": [
    "curr_value = int(input(\"Enter a number: \"))\n",
    "\n",
    "while curr_value < 100:\n",
    "    curr_value = curr_value * 2\n",
    "    print(curr_value, end=\" \") \n"
   ]
  },
  {
   "cell_type": "markdown",
   "metadata": {},
   "source": [
    "# Count Down"
   ]
  },
  {
   "cell_type": "code",
   "execution_count": 7,
   "metadata": {},
   "outputs": [
    {
     "name": "stdout",
     "output_type": "stream",
     "text": [
      "10 9 8 7 6 5 4 3 2 1 Liftoff!\n"
     ]
    }
   ],
   "source": [
    "for i in range(10, 0, -1):\n",
    "    print(i, end=\" \")\n",
    "\n",
    "print(\"Liftoff!\")\n"
   ]
  },
  {
   "cell_type": "markdown",
   "metadata": {},
   "source": [
    "# Guess My Number"
   ]
  },
  {
   "cell_type": "code",
   "execution_count": null,
   "metadata": {},
   "outputs": [
    {
     "name": "stdout",
     "output_type": "stream",
     "text": [
      "I am thinking of a number between 0 and 50...\n",
      "14\n",
      "Your guess is too high\n",
      "14\n",
      "Your guess is too high\n",
      "14\n",
      "Congrats! The number was: 14\n"
     ]
    }
   ],
   "source": [
    "import random\n",
    "\n",
    "secret_number = random.randint(0, 50)\n",
    "\n",
    "print(\"I am thinking of a number between 0 and 50...\")\n",
    "\n",
    "while True:\n",
    "    guess = int(input(\"Enter a guess: \"))\n",
    "    if guess > secret_number:\n",
    "        print(\"Your guess is too high\")\n",
    "    elif guess < secret_number:\n",
    "        print(\"Your guess is too low\")\n",
    "    else:\n",
    "        print(f\"Congrats! The number was: {secret_number}\")\n",
    "        break\n"
   ]
  },
  {
   "cell_type": "markdown",
   "metadata": {},
   "source": [
    "# Random Numbers"
   ]
  },
  {
   "cell_type": "code",
   "execution_count": 3,
   "metadata": {},
   "outputs": [
    {
     "name": "stdout",
     "output_type": "stream",
     "text": [
      "3 7 8 23 3 30 38 69 24 64 "
     ]
    }
   ],
   "source": [
    "import random\n",
    "\n",
    "for _ in range(10):\n",
    "    print(random.randint(1, 100), end=\" \")\n"
   ]
  }
 ],
 "metadata": {
  "kernelspec": {
   "display_name": "Python 3",
   "language": "python",
   "name": "python3"
  },
  "language_info": {
   "codemirror_mode": {
    "name": "ipython",
    "version": 3
   },
   "file_extension": ".py",
   "mimetype": "text/x-python",
   "name": "python",
   "nbconvert_exporter": "python",
   "pygments_lexer": "ipython3",
   "version": "3.10.11"
  }
 },
 "nbformat": 4,
 "nbformat_minor": 2
}
